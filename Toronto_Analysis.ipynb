{
  "nbformat": 4,
  "nbformat_minor": 0,
  "metadata": {
    "colab": {
      "name": "Toronto_Analysis.ipynb",
      "provenance": [],
      "private_outputs": true,
      "authorship_tag": "ABX9TyMUkVrsKMl0QR7ux0m6cd2h",
      "include_colab_link": true
    },
    "kernelspec": {
      "name": "python3",
      "display_name": "Python 3"
    }
  },
  "cells": [
    {
      "cell_type": "markdown",
      "metadata": {
        "id": "view-in-github",
        "colab_type": "text"
      },
      "source": [
        "<a href=\"https://colab.research.google.com/github/arohanajit/Coursera_Capstone/blob/master/Toronto_Analysis.ipynb\" target=\"_parent\"><img src=\"https://colab.research.google.com/assets/colab-badge.svg\" alt=\"Open In Colab\"/></a>"
      ]
    },
    {
      "cell_type": "code",
      "metadata": {
        "id": "n5hVZjCCxLvI",
        "colab_type": "code",
        "colab": {}
      },
      "source": [
        "import requests\n",
        "from bs4 import BeautifulSoup\n",
        "import requests\n",
        "from pandas.io.json import json_normalize\n",
        "import os\n",
        "import numpy as np\n",
        "import pandas as pd\n",
        "import json"
      ],
      "execution_count": 0,
      "outputs": []
    },
    {
      "cell_type": "markdown",
      "metadata": {
        "id": "q4ThLUHfDWQF",
        "colab_type": "text"
      },
      "source": [
        "### Extracting Data\n",
        "* URL is taken through requests method\n",
        "* Using Beautiful soup library, table data is extracted"
      ]
    },
    {
      "cell_type": "code",
      "metadata": {
        "id": "C5pWAcZOxRo2",
        "colab_type": "code",
        "colab": {}
      },
      "source": [
        "pageUrl = 'https://en.wikipedia.org/wiki/List_of_postal_codes_of_Canada:_M'\n",
        "page = requests.get(pageUrl).text"
      ],
      "execution_count": 0,
      "outputs": []
    },
    {
      "cell_type": "code",
      "metadata": {
        "id": "f0IwmH6IxdDf",
        "colab_type": "code",
        "colab": {}
      },
      "source": [
        "soup = BeautifulSoup(page, 'html.parser')\n",
        "myTable = soup.find('table', class_=\"wikitable sortable\")\n",
        "headings = myTable.find_all('th')"
      ],
      "execution_count": 0,
      "outputs": []
    },
    {
      "cell_type": "markdown",
      "metadata": {
        "id": "1qd41buiDtGi",
        "colab_type": "text"
      },
      "source": [
        "### Pandas DataFrame\n",
        "* An empty dataframe is created using extracted headings\n",
        "* Values are extracted from table and appended after formatting\n",
        "  * Not assigned values are removed first\n",
        "  * White spaces are removed from list\n",
        "  * Boroughs with multiple neighbourhoods are formatted"
      ]
    },
    {
      "cell_type": "code",
      "metadata": {
        "id": "hTl9hb8GyKwG",
        "colab_type": "code",
        "colab": {}
      },
      "source": [
        "column = []\n",
        "for i in headings:\n",
        "    column.append(i.text[:-1])\n",
        "toronto_hood = pd.DataFrame(columns=column)\n",
        "toronto_hood"
      ],
      "execution_count": 0,
      "outputs": []
    },
    {
      "cell_type": "code",
      "metadata": {
        "id": "T4nRpsAg7lVX",
        "colab_type": "code",
        "colab": {}
      },
      "source": [
        "values = myTable.find_all('tr')\n",
        "del values[0]\n",
        "for i in values:\n",
        "    temp = i.text.split('\\n')\n",
        "    if temp[3]=='Not assigned':\n",
        "        continue\n",
        "    else:\n",
        "        temp = [temp[i] for i in range(len(temp)) if i%2!=0]\n",
        "        temp[-1] = temp[-1].replace(' /',',')\n",
        "        toronto_hood = toronto_hood.append({'Postal code':temp[0],\n",
        "                                            'Borough':temp[1],\n",
        "                                            'Neighborhood':temp[2]},ignore_index=True)\n",
        "toronto_hood.head()"
      ],
      "execution_count": 0,
      "outputs": []
    },
    {
      "cell_type": "code",
      "metadata": {
        "id": "AZOkUfCH8nPF",
        "colab_type": "code",
        "colab": {}
      },
      "source": [
        "toronto_hood.shape"
      ],
      "execution_count": 0,
      "outputs": []
    },
    {
      "cell_type": "code",
      "metadata": {
        "id": "1O2gy2nEEfWb",
        "colab_type": "code",
        "colab": {}
      },
      "source": [
        ""
      ],
      "execution_count": 0,
      "outputs": []
    }
  ]
}