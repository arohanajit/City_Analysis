{
  "nbformat": 4,
  "nbformat_minor": 0,
  "metadata": {
    "colab": {
      "name": "Toronto_Analysis.ipynb",
      "provenance": [],
      "private_outputs": true,
      "include_colab_link": true
    },
    "kernelspec": {
      "display_name": "Python 3",
      "language": "python",
      "name": "python3"
    },
    "language_info": {
      "codemirror_mode": {
        "name": "ipython",
        "version": 3
      },
      "file_extension": ".py",
      "mimetype": "text/x-python",
      "name": "python",
      "nbconvert_exporter": "python",
      "pygments_lexer": "ipython3",
      "version": "3.7.7"
    }
  },
  "cells": [
    {
      "cell_type": "markdown",
      "metadata": {
        "id": "view-in-github",
        "colab_type": "text"
      },
      "source": [
        "<a href=\"https://colab.research.google.com/github/arohanajit/Coursera_Capstone/blob/master/Toronto_Analysis.ipynb\" target=\"_parent\"><img src=\"https://colab.research.google.com/assets/colab-badge.svg\" alt=\"Open In Colab\"/></a>"
      ]
    },
    {
      "cell_type": "code",
      "metadata": {
        "colab_type": "code",
        "id": "n5hVZjCCxLvI",
        "colab": {}
      },
      "source": [
        "import requests\n",
        "from bs4 import BeautifulSoup\n",
        "import requests\n",
        "from pandas.io.json import json_normalize\n",
        "import os\n",
        "import numpy as np\n",
        "import pandas as pd\n",
        "import json\n",
        "import geocoder \n",
        "from geopy.geocoders import Nominatim\n",
        "import folium\n",
        "import matplotlib.cm as cm\n",
        "import matplotlib.colors as colors\n",
        "from sklearn.cluster import KMeans\n",
        "print('Libraries imported.')"
      ],
      "execution_count": 0,
      "outputs": []
    },
    {
      "cell_type": "markdown",
      "metadata": {
        "colab_type": "text",
        "id": "q4ThLUHfDWQF"
      },
      "source": [
        "### Extracting Data\n",
        "* URL is taken through requests method\n",
        "* Using Beautiful soup library, table data is extracted"
      ]
    },
    {
      "cell_type": "code",
      "metadata": {
        "colab_type": "code",
        "id": "C5pWAcZOxRo2",
        "colab": {}
      },
      "source": [
        "pageUrl = 'https://en.wikipedia.org/wiki/List_of_postal_codes_of_Canada:_M'\n",
        "page = requests.get(pageUrl).text"
      ],
      "execution_count": 0,
      "outputs": []
    },
    {
      "cell_type": "code",
      "metadata": {
        "colab_type": "code",
        "id": "f0IwmH6IxdDf",
        "colab": {}
      },
      "source": [
        "soup = BeautifulSoup(page, 'html.parser')\n",
        "myTable = soup.find('table', class_=\"wikitable sortable\")\n",
        "headings = myTable.find_all('th')"
      ],
      "execution_count": 0,
      "outputs": []
    },
    {
      "cell_type": "markdown",
      "metadata": {
        "colab_type": "text",
        "id": "1qd41buiDtGi"
      },
      "source": [
        "### Pandas DataFrame\n",
        "* An empty dataframe is created using extracted headings\n",
        "* Values are extracted from table and appended after formatting\n",
        "  * Not assigned values are removed first\n",
        "  * White spaces are removed from list\n",
        "  * Boroughs with multiple neighbourhoods are formatted"
      ]
    },
    {
      "cell_type": "code",
      "metadata": {
        "colab_type": "code",
        "id": "hTl9hb8GyKwG",
        "colab": {}
      },
      "source": [
        "column = []\n",
        "for i in headings:\n",
        "    column.append(i.text[:-1])\n",
        "toronto_hood = pd.DataFrame(columns=column)\n",
        "toronto_hood"
      ],
      "execution_count": 0,
      "outputs": []
    },
    {
      "cell_type": "code",
      "metadata": {
        "colab_type": "code",
        "id": "T4nRpsAg7lVX",
        "colab": {}
      },
      "source": [
        "values = myTable.find_all('tr')\n",
        "del values[0]\n",
        "for i in values:\n",
        "    temp = i.text.split('\\n')\n",
        "    if temp[3]=='Not assigned':\n",
        "        continue\n",
        "    else:\n",
        "        temp = [temp[i] for i in range(len(temp)) if i%2!=0]\n",
        "        temp[-1] = temp[-1].replace(' /',',')\n",
        "        toronto_hood = toronto_hood.append({'Postal code':temp[0],\n",
        "                                            'Borough':temp[1],\n",
        "                                            'Neighborhood':temp[2]},ignore_index=True)\n",
        "\n",
        "        "
      ],
      "execution_count": 0,
      "outputs": []
    },
    {
      "cell_type": "code",
      "metadata": {
        "id": "NTWFvXk1-oxF",
        "colab_type": "code",
        "colab": {}
      },
      "source": [
        "toronto_hood = toronto_hood.groupby(['Postal code','Borough'],as_index=False).agg(lambda x: \", \".join(x))\n",
        "for index, row in toronto_hood.iterrows():\n",
        "    if row[\"Neighborhood\"] == \"Not assigned\":\n",
        "        row[\"Neighborhood\"] = row[\"Borough\"]\n",
        "toronto_hood.head(10)"
      ],
      "execution_count": 0,
      "outputs": []
    },
    {
      "cell_type": "code",
      "metadata": {
        "id": "UxDgLPvo-oxS",
        "colab_type": "code",
        "colab": {}
      },
      "source": [
        "toronto_hood.shape"
      ],
      "execution_count": 0,
      "outputs": []
    },
    {
      "cell_type": "code",
      "metadata": {
        "colab_type": "code",
        "id": "1O2gy2nEEfWb",
        "scrolled": true,
        "colab": {}
      },
      "source": [
        "coordinates = pd.read_csv(\"https://raw.githubusercontent.com/arohanajit/Coursera_Capstone/master/Geospatial_Coordinates.csv\")\n",
        "coordinates.head()"
      ],
      "execution_count": 0,
      "outputs": []
    },
    {
      "cell_type": "code",
      "metadata": {
        "id": "M3EKtSJN-ox1",
        "colab_type": "code",
        "colab": {}
      },
      "source": [
        "coordinates.rename(columns={\"Postal Code\": \"Postal code\"}, inplace=True)\n",
        "coordinates.head()"
      ],
      "execution_count": 0,
      "outputs": []
    },
    {
      "cell_type": "code",
      "metadata": {
        "id": "ALH6nDij-oyI",
        "colab_type": "code",
        "colab": {}
      },
      "source": [
        "toronto_new = toronto_hood.merge(coordinates, on=\"Postal code\", how=\"left\")"
      ],
      "execution_count": 0,
      "outputs": []
    },
    {
      "cell_type": "code",
      "metadata": {
        "id": "TAIjuTqA-oyY",
        "colab_type": "code",
        "colab": {}
      },
      "source": [
        "print(\"Toronto has {} Boroughs and {} unique neighborhoods\".format(len(toronto_new['Borough'].unique()),\n",
        "                                                                       toronto_new.shape[0]))"
      ],
      "execution_count": 0,
      "outputs": []
    },
    {
      "cell_type": "code",
      "metadata": {
        "id": "77W1RA5t-oyh",
        "colab_type": "code",
        "colab": {}
      },
      "source": [
        "address = 'Toronto, Ontario'\n",
        "\n",
        "geolocator = Nominatim(user_agent=\"toronto_explorer\")\n",
        "location = geolocator.geocode(address)\n",
        "latitude = location.latitude\n",
        "longitude = location.longitude\n",
        "print('The geograpical coordinate of Toronto are {}, {}.'.format(latitude, longitude))"
      ],
      "execution_count": 0,
      "outputs": []
    },
    {
      "cell_type": "code",
      "metadata": {
        "id": "c1omj3fB-oyq",
        "colab_type": "code",
        "colab": {}
      },
      "source": [
        "map_toronto = folium.Map(location=[latitude, longitude], zoom_start=10)\n",
        "for lat, lng, borough, neighborhood in zip(toronto_new['Latitude'], toronto_new['Longitude'], toronto_new['Borough'], toronto_new['Neighborhood']):\n",
        "    label = '{}, {}'.format(neighborhood, borough)\n",
        "    label = folium.Popup(label, parse_html=True)\n",
        "    folium.CircleMarker(\n",
        "        [lat, lng],\n",
        "        radius=5,\n",
        "        popup=label,\n",
        "        color='blue',\n",
        "        fill=True,\n",
        "        fill_color='#3186cc',\n",
        "        fill_opacity=0.7,\n",
        "        parse_html=False).add_to(map_toronto)  \n",
        "    \n",
        "map_toronto"
      ],
      "execution_count": 0,
      "outputs": []
    },
    {
      "cell_type": "code",
      "metadata": {
        "id": "DQGSsJDd-oyw",
        "colab_type": "code",
        "colab": {}
      },
      "source": [
        "highlight_hood = [i for i in toronto_new['Borough'].unique() if 'Toronto' in i]\n",
        "print(highlight_hood)\n",
        "subtoronto_data = toronto_new[toronto_new['Borough'].isin(highlight_hood)].reset_index(drop=True)\n",
        "print(subtoronto_data.shape)\n",
        "subtoronto_data.tail()"
      ],
      "execution_count": 0,
      "outputs": []
    },
    {
      "cell_type": "code",
      "metadata": {
        "id": "EqqxoN38-oy3",
        "colab_type": "code",
        "colab": {}
      },
      "source": [
        "CLIENT_ID = '3KHJVC5U5PAOGTOZXR2Y5KCYDNGLUYOYDMY5LILY2W34MCAO' \n",
        "CLIENT_SECRET = 'L0O2VAQ2ETKJJPGWJ554DHC3052O2AVWGCTNYXEGFDG10D11' \n",
        "VERSION = '20180605' # Foursquare API version\n",
        "\n",
        "print('Credentails:')\n",
        "print('CLIENT_ID: ' + CLIENT_ID)\n",
        "print('CLIENT_SECRET:' + CLIENT_SECRET)"
      ],
      "execution_count": 0,
      "outputs": []
    },
    {
      "cell_type": "code",
      "metadata": {
        "id": "ubTz_Md8-ozC",
        "colab_type": "code",
        "colab": {}
      },
      "source": [
        "LIMIT = 100\n",
        "radius = 500\n",
        "count = 0\n",
        "venues_list = []\n",
        "for lat,long,name,bor,code in zip(subtoronto_data['Latitude'],subtoronto_data['Longitude'],\n",
        "                                  subtoronto_data['Neighborhood'],subtoronto_data['Borough'],\n",
        "                                  subtoronto_data['Postal code']):\n",
        "    \n",
        "\n",
        "    url = 'https://api.foursquare.com/v2/venues/explore?&client_id={}&client_secret={}&v={}&ll={},{}&radius={}&limit={}'.format(\n",
        "    CLIENT_ID, \n",
        "    CLIENT_SECRET, \n",
        "    VERSION, \n",
        "    lat, \n",
        "    long, \n",
        "    radius, \n",
        "    LIMIT)\n",
        "    \n",
        "    if count%5==0:\n",
        "        print(\"{} done\".format(count))\n",
        "    tries=0\n",
        "    while(1):\n",
        "        tries+=1\n",
        "        if tries%20==0:\n",
        "            print(\"Try : {}...\".format(tries))\n",
        "        GET = requests.get(url).json()[\"response\"]\n",
        "        if len(GET)!=0:\n",
        "            break\n",
        "    results = GET['groups'][0]['items']\n",
        "    count+=1\n",
        "    venues_list.append([(\n",
        "            code,\n",
        "            bor,\n",
        "            name, \n",
        "            lat, \n",
        "            lng, \n",
        "            v['venue']['name'], \n",
        "            v['venue']['location']['lat'], \n",
        "            v['venue']['location']['lng'],  \n",
        "            v['venue']['categories'][0]['name']) for v in results])"
      ],
      "execution_count": 0,
      "outputs": []
    },
    {
      "cell_type": "code",
      "metadata": {
        "id": "0Rw3Zkd5-ozI",
        "colab_type": "code",
        "colab": {}
      },
      "source": [
        "import copy\n",
        "x = copy.deepcopy(venues_list)"
      ],
      "execution_count": 0,
      "outputs": []
    },
    {
      "cell_type": "code",
      "metadata": {
        "id": "4Z94ESpC-ozN",
        "colab_type": "code",
        "colab": {}
      },
      "source": [
        "for i in x:\n",
        "    for j in range(len(i)):\n",
        "        if i[j][-1]=='Neighborhood':\n",
        "            i[j] = (i[j][:-1], 'Community')\n",
        "            print(i)"
      ],
      "execution_count": 0,
      "outputs": []
    },
    {
      "cell_type": "code",
      "metadata": {
        "id": "j1c7Vmif-ozT",
        "colab_type": "code",
        "colab": {}
      },
      "source": [
        "venues = pd.DataFrame([item for venue_list in venues_list for item in venue_list])\n",
        "venues.columns = [\n",
        "                'Postal code',\n",
        "                'Borough',\n",
        "                'Neighborhood', \n",
        "                'Borough Latitude', \n",
        "                'Borough Longitude', \n",
        "                'Venue', \n",
        "                'Venue Latitude', \n",
        "                'Venue Longitude', \n",
        "                'Venue Category']"
      ],
      "execution_count": 0,
      "outputs": []
    },
    {
      "cell_type": "code",
      "metadata": {
        "id": "BFqTNgJo-ozZ",
        "colab_type": "code",
        "colab": {}
      },
      "source": [
        "print(venues.shape)\n",
        "venues.head()"
      ],
      "execution_count": 0,
      "outputs": []
    },
    {
      "cell_type": "code",
      "metadata": {
        "id": "us2hp1kt-ozi",
        "colab_type": "code",
        "colab": {}
      },
      "source": [
        "venues.groupby([\"Postal code\", \"Borough\", \"Neighborhood\"]).count()"
      ],
      "execution_count": 0,
      "outputs": []
    },
    {
      "cell_type": "code",
      "metadata": {
        "id": "79BhCAIc-ozr",
        "colab_type": "code",
        "colab": {}
      },
      "source": [
        "print('There are {} uniques categories.'.format(len(venues['Venue Category'].unique())))"
      ],
      "execution_count": 0,
      "outputs": []
    },
    {
      "cell_type": "code",
      "metadata": {
        "id": "bXbG1HRM-ozw",
        "colab_type": "code",
        "colab": {}
      },
      "source": [
        "toronto_onehot = pd.get_dummies(venues[['Venue Category']], prefix=\"\", prefix_sep=\"\")\n",
        "toronto_onehot['Postal code'] = venues['Postal code'] \n",
        "toronto_onehot['Borough'] = venues['Borough'] \n",
        "toronto_onehot['Neighborhood'] = venues['Neighborhood']\n",
        "fixed_columns = [toronto_onehot.columns[-3:]] + list(toronto_onehot.columns[:-3])\n",
        "toronto_onehot = toronto_onehot[fixed_columns]\n",
        "\n",
        "toronto_onehot.head()"
      ],
      "execution_count": 0,
      "outputs": []
    },
    {
      "cell_type": "code",
      "metadata": {
        "id": "teIzhXJy-oz2",
        "colab_type": "code",
        "colab": {}
      },
      "source": [
        "toronto_onehot.shape"
      ],
      "execution_count": 0,
      "outputs": []
    },
    {
      "cell_type": "code",
      "metadata": {
        "id": "U8vf2yVj-oz7",
        "colab_type": "code",
        "colab": {}
      },
      "source": [
        "toronto_grouped = toronto_onehot.groupby('Neighborhood').mean().reset_index()\n",
        "toronto_grouped"
      ],
      "execution_count": 0,
      "outputs": []
    },
    {
      "cell_type": "code",
      "metadata": {
        "id": "8HHqhMpY-o0C",
        "colab_type": "code",
        "colab": {}
      },
      "source": [
        "num_top_venues = 5\n",
        "\n",
        "for hood in toronto_grouped['Neighborhood']:\n",
        "    print(\"----\"+hood+\"----\")\n",
        "    temp = toronto_grouped[toronto_grouped['Neighborhood'] == hood].T.reset_index()\n",
        "    temp.columns = ['venue','freq']\n",
        "    temp = temp.iloc[1:]\n",
        "    temp['freq'] = temp['freq'].astype(float)\n",
        "    temp = temp.round({'freq': 2})\n",
        "    print(temp.sort_values('freq', ascending=False).reset_index(drop=True).head(num_top_venues))\n",
        "    print('\\n')"
      ],
      "execution_count": 0,
      "outputs": []
    },
    {
      "cell_type": "code",
      "metadata": {
        "id": "suzgr1wT-o0I",
        "colab_type": "code",
        "colab": {}
      },
      "source": [
        "def return_most_common_venues(row, num_top_venues):\n",
        "    row_categories = row.iloc[1:]\n",
        "    row_categories_sorted = row_categories.sort_values(ascending=False)\n",
        "    \n",
        "    return row_categories_sorted.index.values[0:num_top_venues]"
      ],
      "execution_count": 0,
      "outputs": []
    },
    {
      "cell_type": "code",
      "metadata": {
        "id": "RXQIpyqB-o0M",
        "colab_type": "code",
        "colab": {}
      },
      "source": [
        "num_top_venues = 10\n",
        "\n",
        "indicators = ['st', 'nd', 'rd']\n",
        "\n",
        "# create columns according to number of top venues\n",
        "columns = ['Neighborhood']\n",
        "for ind in np.arange(num_top_venues):\n",
        "    try:\n",
        "        columns.append('{}{} Most Common Venue'.format(ind+1, indicators[ind]))\n",
        "    except:\n",
        "        columns.append('{}th Most Common Venue'.format(ind+1))\n",
        "\n",
        "# create a new dataframe\n",
        "neighborhoods_venues_sorted = pd.DataFrame(columns=columns)\n",
        "neighborhoods_venues_sorted['Neighborhood'] = toronto_grouped['Neighborhood']\n",
        "\n",
        "for ind in np.arange(toronto_grouped.shape[0]):\n",
        "    neighborhoods_venues_sorted.iloc[ind, 1:] = return_most_common_venues(toronto_grouped.iloc[ind, :], num_top_venues)\n",
        "\n",
        "neighborhoods_venues_sorted.head()"
      ],
      "execution_count": 0,
      "outputs": []
    },
    {
      "cell_type": "code",
      "metadata": {
        "id": "vtZI_EaV-o0S",
        "colab_type": "code",
        "colab": {}
      },
      "source": [
        "kclusters = 5\n",
        "toronto_grouped_clustering = toronto_grouped.drop('Neighborhood', 1)\n",
        "kmeans = KMeans(n_clusters=kclusters, random_state=0).fit(toronto_grouped_clustering)\n",
        "kmeans.labels_[0:10]"
      ],
      "execution_count": 0,
      "outputs": []
    },
    {
      "cell_type": "code",
      "metadata": {
        "id": "5CW6Qooh-o0W",
        "colab_type": "code",
        "colab": {}
      },
      "source": [
        "neighborhoods_venues_sorted.insert(0, 'Cluster Labels', kmeans.labels_)\n",
        "toronto_merged = subtoronto_data\n",
        "toronto_merged = toronto_merged.join(neighborhoods_venues_sorted.set_index('Neighborhood'), on='Neighborhood')\n"
      ],
      "execution_count": 0,
      "outputs": []
    },
    {
      "cell_type": "code",
      "metadata": {
        "id": "xt17AJ6--o0a",
        "colab_type": "code",
        "colab": {}
      },
      "source": [
        "toronto_merged['Cluster Labels'] = toronto_merged['Cluster Labels'].astype(int)\n",
        "toronto_merged.head()"
      ],
      "execution_count": 0,
      "outputs": []
    },
    {
      "cell_type": "code",
      "metadata": {
        "id": "sAVh_0UN-o0d",
        "colab_type": "code",
        "colab": {}
      },
      "source": [
        "subtoronto_data.head()"
      ],
      "execution_count": 0,
      "outputs": []
    },
    {
      "cell_type": "code",
      "metadata": {
        "id": "G8T2ff84-o0n",
        "colab_type": "code",
        "colab": {}
      },
      "source": [
        "map_clusters = folium.Map(location=[latitude, longitude], zoom_start=11)\n",
        "\n",
        "x = np.arange(kclusters)\n",
        "ys = [i + x + (i*x)**2 for i in range(kclusters)]\n",
        "colors_array = cm.rainbow(np.linspace(0, 1, len(ys)))\n",
        "rainbow = [colors.rgb2hex(i) for i in colors_array]\n",
        "\n",
        "markers_colors = []\n",
        "for lat, lon, poi, cluster in zip(toronto_merged['Latitude'], toronto_merged['Longitude'], toronto_merged['Neighborhood'], toronto_merged['Cluster Labels']):\n",
        "    label = folium.Popup(str(poi) + ' Cluster ' + str(cluster), parse_html=True)\n",
        "    folium.CircleMarker(\n",
        "        [lat, lon],\n",
        "        radius=5,\n",
        "        popup=label,\n",
        "        color=rainbow[cluster-1],\n",
        "        fill=True,\n",
        "        fill_color=rainbow[cluster-1],\n",
        "        fill_opacity=0.7).add_to(map_clusters)\n",
        "       \n",
        "map_clusters"
      ],
      "execution_count": 0,
      "outputs": []
    },
    {
      "cell_type": "code",
      "metadata": {
        "id": "YBZ4Clc--o0s",
        "colab_type": "code",
        "colab": {}
      },
      "source": [
        ""
      ],
      "execution_count": 0,
      "outputs": []
    }
  ]
}